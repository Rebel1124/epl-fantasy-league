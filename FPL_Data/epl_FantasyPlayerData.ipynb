{
 "cells": [
  {
   "cell_type": "code",
   "execution_count": 1,
   "id": "f527117d",
   "metadata": {},
   "outputs": [],
   "source": [
    "# Import required libraries and dependencies\n",
    "import requests\n",
    "import pandas as pd\n",
    "import numpy as np\n",
    "import scipy.stats as st\n",
    "\n",
    "pd.options.display.max_columns = None"
   ]
  },
  {
   "cell_type": "markdown",
   "id": "92702682",
   "metadata": {},
   "source": [
    "## Import Player Statistics from fantasy premier league API"
   ]
  },
  {
   "cell_type": "code",
   "execution_count": 2,
   "id": "baa3ac36",
   "metadata": {},
   "outputs": [],
   "source": [
    "url = 'https://fantasy.premierleague.com/api/bootstrap-static/'\n",
    "r = requests.get(url)\n",
    "json = r.json()\n",
    "elements_df = pd.DataFrame(json['elements'])\n",
    "elements_types_df = pd.DataFrame(json['element_types'])\n",
    "teams_df = pd.DataFrame(json['teams'])\n",
    "\n",
    "elements_df = elements_df.loc[(elements_df.minutes > 0) & (elements_df.total_points > 0) & (elements_df.status != 'u')]"
   ]
  },
  {
   "cell_type": "markdown",
   "id": "3d2725dd",
   "metadata": {},
   "source": [
    "## Functions to clean and classify player data"
   ]
  },
  {
   "cell_type": "code",
   "execution_count": 3,
   "id": "23c344b9",
   "metadata": {},
   "outputs": [],
   "source": [
    "def changeName(team):\n",
    "    if(team == 'Man Utd'):\n",
    "        team = 'Man United'\n",
    "    elif(team == 'Spurs'):\n",
    "        team = 'Tottenham'\n",
    "    else:\n",
    "        team = team\n",
    "    \n",
    "    return team\n",
    "\n",
    "\n",
    "def statusName(x):\n",
    "    if(x == 'a'):\n",
    "        return 'avail'\n",
    "    elif(x == 'd'):\n",
    "        return 'doubt'\n",
    "    elif(x == 's'):\n",
    "        return 'susp'\n",
    "    elif(x == 'i'):\n",
    "        return 'inj'\n",
    "    else:\n",
    "        return x"
   ]
  },
  {
   "cell_type": "code",
   "execution_count": 4,
   "id": "f6f9d892",
   "metadata": {},
   "outputs": [],
   "source": [
    "#This function categorizes players according to their percentile z-score ranking. \n",
    "#Players ranked below average (i.e. <= 0.5) were assigned bronze status with players in the top 2.5% ranked as platinum.\n",
    "\n",
    "##Important to note that the percentile cutoffs were chosen to match that of the k-means clustering model,\n",
    "#so the below percentiles were NOT chosen at random but more guided by the k-mans and PCA models.\n",
    "\n",
    "def category(x):\n",
    "    if(x <= 0.5):\n",
    "        return 'bronze'\n",
    "    elif(x <= 0.8):\n",
    "        return 'silver'\n",
    "    elif(x <= 0.975):\n",
    "        return 'gold'\n",
    "    else:\n",
    "        return 'platin'"
   ]
  },
  {
   "cell_type": "markdown",
   "id": "1075a05c",
   "metadata": {},
   "source": [
    "## Here we import and clean the data into a usable dataframe"
   ]
  },
  {
   "cell_type": "code",
   "execution_count": 5,
   "id": "0872dba7",
   "metadata": {},
   "outputs": [],
   "source": [
    "for x in elements_df.index :\n",
    "    #print(x)\n",
    "    element_id = elements_df.id[x]\n",
    "    name = elements_df.web_name[x]\n",
    "    team = elements_df.team[x]\n",
    "    element_type = elements_df.element_type[x]\n",
    "    url = f'https://fantasy.premierleague.com/api/element-summary/{element_id}/'\n",
    "    r = requests.get(url)\n",
    "    json = r.json()\n",
    "    json_history_df = pd.DataFrame(json['history'])\n",
    "    json_history_df['name'] = name\n",
    "    json_history_df['team'] = team\n",
    "    json_history_df['element_type'] = element_type\n",
    "\n",
    "    if x == 0 :\n",
    "        all_history_df = json_history_df\n",
    "    else : \n",
    "        all_history_df = all_history_df.append(json_history_df)"
   ]
  },
  {
   "cell_type": "code",
   "execution_count": 6,
   "id": "d59863f0",
   "metadata": {},
   "outputs": [],
   "source": [
    "all_history_df['position'] = all_history_df.element_type.map(elements_types_df.set_index('id').singular_name)\n",
    "all_history_df['teamName'] = all_history_df.team.map(teams_df.set_index('id').name)\n",
    "all_history_df['team'] = all_history_df['teamName'].apply(changeName)\n",
    "all_history_df['opponent'] = all_history_df.opponent_team.map(teams_df.set_index('id').name)\n",
    "all_history_df['Date'] = all_history_df.kickoff_time.str[:10]\n",
    "\n",
    "all_history_df.to_csv('all_history_df_current.csv')"
   ]
  },
  {
   "cell_type": "code",
   "execution_count": 7,
   "id": "30168ff6",
   "metadata": {},
   "outputs": [],
   "source": [
    "elements_df['ict_index_per_90'] = elements_df.apply(lambda x: round((float(x['ict_index']))/(round((float(x['total_points'])/float(x['points_per_game'])),0)),2), axis=1)\n",
    "elements_df['ict_index_value'] = elements_df.apply(lambda x: round((float(x['ict_index']))/(float(x['now_cost'])),2), axis=1)\n",
    "elements_df['bps_per_90'] = elements_df.apply(lambda x: round((float(x['bps'])+float(x['bonus']))/(round((float(x['total_points'])/float(x['points_per_game'])),0)),2), axis=1)\n",
    "elements_df['value_bps'] = elements_df.apply(lambda x: round((float(x['bps'])+float(x['bonus']))/(float(x['now_cost'])),2), axis=1)\n",
    "\n",
    "elements_df['position'] = elements_df.element_type.map(elements_types_df.set_index('id').singular_name)\n",
    "elements_df['teamName'] = elements_df.team.map(teams_df.set_index('id').name)\n",
    "elements_df['team'] = elements_df['teamName'].apply(changeName)\n",
    "elements_df['statusFull'] = elements_df['status'].apply(statusName)\n",
    "elements_df['description'] = \"[\"+elements_df['web_name']+\", \"+elements_df['team']+\"]\""
   ]
  },
  {
   "cell_type": "markdown",
   "id": "885e3820",
   "metadata": {},
   "source": [
    "## Generate feature variables, used to classify players and to be used in K-Means Clustering"
   ]
  },
  {
   "cell_type": "markdown",
   "id": "c34bee29",
   "metadata": {},
   "source": [
    "The below block of code generates z-scores for 9 feature variables which are:\n",
    "\n",
    "1) player form: p-form (current form of player over the last 30 days)\n",
    "\n",
    "2) player cost: now-cost (current cost of player)\n",
    "\n",
    "3) season points: value_season (this is the points accumulated by the player for the season so far divided by the value of the player which represents the average points generated by a player per unit cost)\n",
    "\n",
    "4) season bonus points: value_bps (this is the bonus points accumulated by the player for the season so far divided by the value of the player which represents the average points generated by a player unit cost)\n",
    "\n",
    "5) percentage players selected: selected_by_percent (this represents the percentage of fantasy league players that have selected this football player in their fantasy team)\n",
    "\n",
    "6) season ICT points: ict_index_value (this represents the players accumulated ICT points for the season divided by the players value and represents the average points generated by the player per unit cost)\n",
    "\n",
    "7) ICT points per game: ict_index_per_90 (this represents the players accumulated ICT points for the season divided by 90mins which determines the players average ICT score per game - ICT referes to the players Influence, Creativity and Threath posed in games)\n",
    "\n",
    "8) Bonus points per game: bps_per_90 (This represents the players accumulated bonus points for the season divided by games played and respresents the players average bonus points per game).\n",
    "\n",
    "9) Points per game: points_per_game (This respresents teh players accumulated points for the season divided by games played and represents the players average points per game)\n",
    "\n",
    "\n",
    "** In contruction each of the feature variables, the zscores of each player was calculated. Negative Z-Scores were assigned a score of zero (so the floor was set at zero) as the objective was to identify players that were above average and not to penalize players below average for a a particular feature.\n"
   ]
  },
  {
   "cell_type": "code",
   "execution_count": 8,
   "id": "94105ff3",
   "metadata": {},
   "outputs": [],
   "source": [
    "### feature variable generation\n",
    "\n",
    "elements_df['form'] = elements_df['form'].astype(float)\n",
    "form_splice = elements_df.loc[(elements_df['form'] > 0)]\n",
    "form_mean = form_splice['form'].mean()\n",
    "form_std = form_splice['form'].std()\n",
    "elements_df['zScore_form'] = (elements_df['form'] - form_mean)/form_std\n",
    "elements_df['zScore_form'] = elements_df.apply(lambda x: x['zScore_form'] if x['zScore_form'] > 0 else 0, axis=1)\n",
    "elements_df['p-form'] = elements_df.apply(lambda x: st.norm.cdf(x['zScore_form']), axis=1)\n",
    "elements_df['form-cat'] = elements_df.apply(lambda x: category(x['p-form']), axis=1)\n",
    "\n",
    "elements_df['now_cost'] = elements_df['now_cost'].astype(float)\n",
    "elements_df['now_cost'] = elements_df['now_cost']/10\n",
    "cost_splice = elements_df.loc[(elements_df['now_cost'] > 0)]\n",
    "cost_mean = cost_splice['now_cost'].mean()\n",
    "cost_std = cost_splice['now_cost'].std()\n",
    "elements_df['zScore_cost'] = (elements_df['now_cost'] - cost_mean)/cost_std\n",
    "elements_df['zScore_cost'] = elements_df.apply(lambda x: x['zScore_cost'] if x['zScore_cost'] > 0 else 0, axis=1)\n",
    "elements_df['p-cost'] = elements_df.apply(lambda x: st.norm.cdf(x['zScore_cost']), axis=1)\n",
    "elements_df['cost-cat'] = elements_df.apply(lambda x: category(x['p-cost']), axis=1)\n",
    "\n",
    "elements_df['value_season'] = elements_df['value_season'].astype(float)\n",
    "vsea_splice = elements_df.loc[(elements_df['value_season'] > 0)]\n",
    "vsea_mean = vsea_splice['value_season'].mean()\n",
    "vsea_std = vsea_splice['value_season'].std()\n",
    "elements_df['zScore_vsea'] = (elements_df['value_season'] - vsea_mean)/vsea_std\n",
    "elements_df['zScore_vsea'] = elements_df.apply(lambda x: x['zScore_vsea'] if x['zScore_vsea'] > 0 else 0, axis=1)\n",
    "elements_df['p-vsea'] = elements_df.apply(lambda x: st.norm.cdf(x['zScore_vsea']), axis=1)\n",
    "elements_df['vsea-cat'] = elements_df.apply(lambda x: category(x['p-vsea']), axis=1)\n",
    "\n",
    "elements_df['value_bps'] = elements_df['value_bps'].astype(float)\n",
    "vbps_splice = elements_df.loc[(elements_df['value_bps'] > 0)]\n",
    "vbps_mean = vbps_splice['value_bps'].mean()\n",
    "vbps_std = vbps_splice['value_bps'].std()\n",
    "elements_df['zScore_vbps'] = (elements_df['value_bps'] - vbps_mean)/vbps_std\n",
    "elements_df['zScore_vbps'] = elements_df.apply(lambda x: x['zScore_vbps'] if x['zScore_vbps'] > 0 else 0, axis=1)\n",
    "elements_df['p-vbps'] = elements_df.apply(lambda x: st.norm.cdf(x['zScore_vbps']), axis=1)\n",
    "elements_df['vbps-cat'] = elements_df.apply(lambda x: category(x['p-vbps']), axis=1)\n",
    "\n",
    "elements_df['selected_by_percent'] = elements_df['selected_by_percent'].astype(float)\n",
    "sbp_splice = elements_df.loc[(elements_df['selected_by_percent'] > 0)]\n",
    "sbp_mean = sbp_splice['selected_by_percent'].mean()\n",
    "sbp_std = sbp_splice['selected_by_percent'].std()\n",
    "elements_df['zScore_sbp'] = (elements_df['selected_by_percent'] - sbp_mean)/sbp_std\n",
    "elements_df['zScore_sbp'] = elements_df.apply(lambda x: x['zScore_sbp'] if x['zScore_sbp'] > 0 else 0, axis=1)\n",
    "elements_df['p-sbp'] = elements_df.apply(lambda x: st.norm.cdf(x['zScore_sbp']), axis=1)\n",
    "elements_df['sbp-cat'] = elements_df.apply(lambda x: category(x['p-sbp']), axis=1)\n",
    "\n",
    "ictval_splice = elements_df.loc[(elements_df['ict_index_value'] > 0)]\n",
    "ictval_mean = ictval_splice['ict_index_value'].mean()\n",
    "ictval_std = ictval_splice['ict_index_value'].std()\n",
    "elements_df['zScore_ictval'] = (elements_df['ict_index_value'] - ictval_mean)/ictval_std\n",
    "elements_df['zScore_ictval'] = elements_df.apply(lambda x: x['zScore_ictval'] if x['zScore_ictval'] > 0 else 0, axis=1)\n",
    "elements_df['p-ictval'] = elements_df.apply(lambda x: st.norm.cdf(x['zScore_ictval']), axis=1)\n",
    "elements_df['ictval-cat'] = elements_df.apply(lambda x: category(x['p-ictval']), axis=1)\n",
    "\n",
    "ict_splice = elements_df.loc[(elements_df['ict_index_per_90'] > 0)]\n",
    "ict_mean = ict_splice['ict_index_per_90'].mean()\n",
    "ict_std = ict_splice['ict_index_per_90'].std()\n",
    "elements_df['zScore_ict'] = (elements_df['ict_index_per_90'] - ict_mean)/ict_std\n",
    "elements_df['zScore_ict'] = elements_df.apply(lambda x: x['zScore_ict'] if x['zScore_ict'] > 0 else 0, axis=1)\n",
    "elements_df['p-ict'] = elements_df.apply(lambda x: st.norm.cdf(x['zScore_ict']), axis=1)\n",
    "elements_df['ict-cat'] = elements_df.apply(lambda x: category(x['p-ict']), axis=1)\n",
    "\n",
    "bps_splice = elements_df.loc[(elements_df['bps_per_90'] > 0)]\n",
    "bps_mean = bps_splice['bps_per_90'].mean()\n",
    "bps_std = bps_splice['bps_per_90'].std()                                \n",
    "elements_df['zScore_bps'] = (elements_df['bps_per_90'] - bps_mean)/bps_std\n",
    "elements_df['zScore_bps'] = elements_df.apply(lambda x: x['zScore_bps'] if x['zScore_bps'] > 0 else 0, axis=1)\n",
    "elements_df['p-bps'] = elements_df.apply(lambda x: st.norm.cdf(x['zScore_bps']), axis=1)\n",
    "elements_df['bps-cat'] = elements_df.apply(lambda x: category(x['p-bps']), axis=1)\n",
    "                                        \n",
    "elements_df['points_per_game'] = elements_df['points_per_game'].astype(float)\n",
    "gpts_splice = elements_df.loc[(elements_df['points_per_game'] > 0)]\n",
    "gpts_mean = gpts_splice['points_per_game'].mean()\n",
    "gpts_std = gpts_splice['points_per_game'].std()                               \n",
    "elements_df['zScore_gpts'] = (elements_df['points_per_game'] - gpts_mean)/gpts_std\n",
    "\n",
    "elements_df['zScore_gpts'] = elements_df.apply(lambda x: x['zScore_gpts'] if x['zScore_gpts'] > 0 else 0, axis=1)\n",
    "elements_df['p-gpts'] = elements_df.apply(lambda x: st.norm.cdf(x['zScore_gpts']), axis=1)\n",
    "elements_df['gpts-cat'] = elements_df.apply(lambda x: category(x['p-gpts']), axis=1)"
   ]
  },
  {
   "cell_type": "markdown",
   "id": "42d43bc6",
   "metadata": {},
   "source": [
    "## Determine overall Player Strength"
   ]
  },
  {
   "cell_type": "markdown",
   "id": "c969a75f",
   "metadata": {},
   "source": [
    "After calulcating the z-scores for each of the feature variables, we then add add the scores for each player after which we standardize the scores by dividing each players score by the maximum - so each player will have a score between 0 and 1.\n",
    "\n",
    "To be consistent I also normalized the standardized scores to get to the final player score.\n",
    "\n",
    "After obtaining the scores players, the percentile rank for each player was then calculated and thereafter based on the percentile rank, players ere then categorized as either being a bronze, silverm gold or platinum player with lower ranked players being categorized as bronze and higher ranked players as platinum."
   ]
  },
  {
   "cell_type": "code",
   "execution_count": 9,
   "id": "c8f7330b",
   "metadata": {},
   "outputs": [],
   "source": [
    "elements_df['strength'] = (elements_df['zScore_form'] + elements_df['zScore_bps'] + elements_df['zScore_gpts'] \n",
    "                           + elements_df['zScore_ict'] + elements_df['zScore_vbps'] + elements_df['zScore_vsea']\n",
    "                           + elements_df['zScore_cost'] + elements_df['zScore_sbp'] + elements_df['zScore_ictval'])\n",
    "\n",
    "elements_df['strength'] = elements_df.apply(lambda x: x['strength'] if x['strength'] > 0 else 0, axis=1)\n",
    "max_strength = elements_df['strength'].max()\n",
    "elements_df['strength'] = elements_df['strength']/max_strength\n",
    "elements_df['strength'] = elements_df.apply(lambda x: round(x['strength'],5) if x['strength'] > 0 else 0.00, axis=1)\n",
    "\n",
    "str_splice = elements_df.loc[(elements_df['strength'] > 0)]\n",
    "str_mean = str_splice['strength'].mean()\n",
    "str_std = str_splice['strength'].std()\n",
    "elements_df['zScore_str'] = (elements_df['strength'] - str_mean)/str_std\n",
    "elements_df['zScore_str'] = elements_df.apply(lambda x: x['zScore_str'] if x['zScore_str'] > 0 else 0, axis=1)\n",
    "elements_df['p-str'] = elements_df.apply(lambda x: st.norm.cdf(x['zScore_str']), axis=1)\n",
    "elements_df['str-cat'] = elements_df.apply(lambda x: category(x['p-str']), axis=1)\n",
    "\n",
    "value_map_d = {'bronze':0,'silver':1,'gold':2, 'platin': 3}\n",
    "elements_df['class'] = elements_df['str-cat'].apply(lambda x: value_map_d.get(x))\n",
    "\n",
    "#Save feature variables and categories to elements.csv file\n",
    "elements_df.to_csv('elements.csv')"
   ]
  },
  {
   "cell_type": "code",
   "execution_count": null,
   "id": "eda1cd51",
   "metadata": {},
   "outputs": [],
   "source": []
  }
 ],
 "metadata": {
  "kernelspec": {
   "display_name": "Python 3",
   "language": "python",
   "name": "python3"
  },
  "language_info": {
   "codemirror_mode": {
    "name": "ipython",
    "version": 3
   },
   "file_extension": ".py",
   "mimetype": "text/x-python",
   "name": "python",
   "nbconvert_exporter": "python",
   "pygments_lexer": "ipython3",
   "version": "3.9.13"
  },
  "vscode": {
   "interpreter": {
    "hash": "6bade0ded84c35ac6b704d6ace7ea1beb9fb855a5aeaf9e9a11e626347d58d7a"
   }
  }
 },
 "nbformat": 4,
 "nbformat_minor": 5
}
